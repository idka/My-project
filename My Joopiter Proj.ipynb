{
 "cells": [
  {
   "cell_type": "markdown",
   "id": "c12976af-1595-4f8c-a6ae-5dfc72cfed9b",
   "metadata": {},
   "source": [
    "### **My Jupyter Notebook on IBM Watson Studio**\n",
    "##### **Avi Kohli**\n",
    "\n",
    "I am currently stuyding in a university pursuing B.B.A \n",
    "\n",
    "_Coding has led me into alot interests and I am ready to move into the data world, starting with data analyst then into my desired job a \"Data Scientist\"._\n",
    "\n",
    "\n",
    "**The next cell will show the calculation of values of a bat, ball and basket.**\n"
   ]
  },
  {
   "cell_type": "code",
   "execution_count": 21,
   "id": "5f0902b2-04ea-4820-8891-e895c82c205c",
   "metadata": {
    "tags": []
   },
   "outputs": [
    {
     "name": "stdout",
     "output_type": "stream",
     "text": [
      "[1] 420\n"
     ]
    }
   ],
   "source": [
    "bat = 400\n",
    "ball = 15\n",
    "basket = 5\n",
    "print(bat + ball + basket)"
   ]
  },
  {
   "cell_type": "markdown",
   "id": "6cc8003d-22be-4069-983d-3bc96fdc582a",
   "metadata": {
    "tags": []
   },
   "source": [
    "| List of items       | Price         | No. of Items  |\n",
    "| --------------------|:--------------:| -------------:|\n",
    "| Bat                 | 400            |   400         |\n",
    "| Ball                | 15             |   150         |\n",
    "| Basket              | 5              |    50         |"
   ]
  },
  {
   "cell_type": "markdown",
   "id": "9389a59e-6717-42c5-8fda-fe3716e4d869",
   "metadata": {},
   "source": [
    "This `table` shows the `list of items` and the `Price` and the `NO. of Items`\n",
    "\n"
   ]
  },
  {
   "cell_type": "markdown",
   "id": "f55251e1-6eb0-4f31-80f2-c2bee38dfeec",
   "metadata": {},
   "source": [
    "~~I hope you have enjoyed my project and I have completed all of the guidelines and included 3 features which were~~ `The table`, `The blockquotes` and `The Strikethrough`.\n",
    "\n",
    "**THANK YOU**"
   ]
  }
 ],
 "metadata": {
  "kernelspec": {
   "display_name": "R",
   "language": "R",
   "name": "conda-env-r-r"
  },
  "language_info": {
   "codemirror_mode": "r",
   "file_extension": ".r",
   "mimetype": "text/x-r-source",
   "name": "R",
   "pygments_lexer": "r",
   "version": "3.5.1"
  }
 },
 "nbformat": 4,
 "nbformat_minor": 5
}
